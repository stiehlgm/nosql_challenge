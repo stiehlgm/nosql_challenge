{
 "cells": [
  {
   "cell_type": "markdown",
   "id": "62bc17d0",
   "metadata": {},
   "source": [
    "# Eat Safe, Love"
   ]
  },
  {
   "cell_type": "markdown",
   "id": "1174c685",
   "metadata": {},
   "source": [
    "## Notebook Set Up"
   ]
  },
  {
   "cell_type": "code",
   "execution_count": null,
   "id": "bb1fe5fd",
   "metadata": {},
   "outputs": [],
   "source": [
    "# Import dependencies\n",
    "from pymongo import MongoClient\n",
    "from pprint import pprint"
   ]
  },
  {
   "cell_type": "code",
   "execution_count": null,
   "id": "20d47684",
   "metadata": {},
   "outputs": [],
   "source": [
    "# Create an instance of MongoClient\n",
    "mongo = MongoClient(port=27017)"
   ]
  },
  {
   "cell_type": "code",
   "execution_count": null,
   "id": "21d150b2",
   "metadata": {},
   "outputs": [],
   "source": [
    "# assign the uk_food database to a variable name\n",
    "db = mongo['uk_food']"
   ]
  },
  {
   "cell_type": "code",
   "execution_count": null,
   "id": "c0c6552c",
   "metadata": {},
   "outputs": [],
   "source": [
    "# review the collections in our database\n",
    "print(database.list_collection_names())"
   ]
  },
  {
   "cell_type": "code",
   "execution_count": null,
   "id": "86f96087",
   "metadata": {},
   "outputs": [],
   "source": [
    "# assign the collection to a variable\n",
    "establishments = db['establishments']"
   ]
  },
  {
   "cell_type": "markdown",
   "id": "11198d37",
   "metadata": {},
   "source": [
    "## Part 3: Exploratory Analysis\n",
    "Unless otherwise stated, for each question: \n",
    "* Use `count_documents` to display the number of documents contained in the result.\n",
    "* Display the first document in the results using `pprint`.\n",
    "* Convert the result to a Pandas DataFrame, print the number of rows in the DataFrame, and display the first 10 rows."
   ]
  },
  {
   "cell_type": "markdown",
   "id": "1cdee122",
   "metadata": {},
   "source": [
    "### 1. Which establishments have a hygiene score equal to 20?"
   ]
  },
  {
   "cell_type": "code",
   "execution_count": null,
   "id": "7cb8dc1c",
   "metadata": {},
   "outputs": [],
   "source": [
    "# Find the establishments with a hygiene score of 20\n",
    "query = {'scores.hygiene' : 20}\n",
    "\n",
    "# Use count_documents to display the number of documents in the result\n",
    "establishments.count_documents(query)\n",
    "\n",
    "# Display the first document in the results using pprint\n",
    "pprint(establishments.find_one(query))\n"
   ]
  },
  {
   "cell_type": "code",
   "execution_count": null,
   "id": "eab8a3d9",
   "metadata": {},
   "outputs": [],
   "source": [
    "# Convert the result to a Pandas DataFrame\n",
    "hygiene = establishments.find(query)\n",
    "\n",
    "hygiene_df = pd.DataFrame(hygiene)\n",
    "\n",
    "# Display the number of rows in the DataFrame\n",
    "print(hygiene_df.shape[0])\n",
    "\n",
    "# Display the first 10 rows of the DataFrame\n",
    "hygiene_df.head(10)\n"
   ]
  },
  {
   "cell_type": "markdown",
   "id": "9065fa8c",
   "metadata": {},
   "source": [
    "### 2. Which establishments in London have a `RatingValue` greater than or equal to 4?"
   ]
  },
  {
   "cell_type": "code",
   "execution_count": null,
   "id": "0b569638",
   "metadata": {},
   "outputs": [],
   "source": [
    "# Find the establishments with London as the Local Authority and has a RatingValue greater than or equal to 4.\n",
    "query = {'LocalAuthorityName' : {'$regex' : 'London'}, 'RatingValue' : {'$gte' : '4'}}\n",
    "\n",
    "# Use count_documents to display the number of documents in the result\n",
    "establishment.count_documents(query)\n",
    "\n",
    "# Display the first document in the results using pprint\n",
    "pprint(establishments.find_one(query))\n"
   ]
  },
  {
   "cell_type": "code",
   "execution_count": null,
   "id": "f7c7565e",
   "metadata": {},
   "outputs": [],
   "source": [
    "# Convert the result to a Pandas DataFrame\n",
    "london = (establishments.find(query))\n",
    "\n",
    "london_df = pd.DataFrame(london)\n",
    "\n",
    "# Display the number of rows in the DataFrame\n",
    "pprint(london_df.shape[0])\n",
    "\n",
    "# Display the first 10 rows of the DataFrame\n",
    "london_df.head(10)\n"
   ]
  },
  {
   "cell_type": "markdown",
   "id": "8aece803",
   "metadata": {},
   "source": [
    "### 3. What are the top 5 establishments with a `RatingValue` rating value of 5, sorted by lowest hygiene score, nearest to the new restaurant added, \"Penang Flavours\"?"
   ]
  },
  {
   "cell_type": "code",
   "execution_count": null,
   "id": "150708ad",
   "metadata": {},
   "outputs": [],
   "source": [
    "# Search within 0.01 degree on either side of the latitude and longitude.\n",
    "# Rating value must equal 5\n",
    "# Sort by hygiene score\n",
    "\n",
    "degree_search = 0.01\n",
    "latitude = 51.490142\n",
    "longitude = 0.08384\n",
    "\n",
    "query = {'geocode.latitude':{'$gte':latitude-degree_search,'$lte':latitude+degree_search},\n",
    "        'geocode.longitude':{'$gte':longitude-degree_search,'$lte':longitude+degree_search},\n",
    "        'RatingValue':'5'}\n",
    "sort =  [('scores.hygiene', 1)]\n",
    "\n",
    "# Print the results\n",
    "pprint(list(establishments.find(query).sort(sort).limit(5)))"
   ]
  },
  {
   "cell_type": "code",
   "execution_count": null,
   "id": "95bcf38a",
   "metadata": {},
   "outputs": [],
   "source": [
    "# Convert result to Pandas DataFrame\n",
    "estab = list(establishments.find(query).sort(sort).limit(5))\n",
    "\n",
    "estab_df = pd.DataFrame(estab)\n"
   ]
  },
  {
   "cell_type": "markdown",
   "id": "fbad8aa6",
   "metadata": {},
   "source": [
    "### 4. How many establishments in each Local Authority area have a hygiene score of 0?"
   ]
  },
  {
   "cell_type": "code",
   "execution_count": null,
   "id": "0acc0380",
   "metadata": {},
   "outputs": [],
   "source": [
    "# Create a pipeline that: \n",
    "# 1. Matches establishments with a hygiene score of 0\n",
    "bad_hygiene = {'$match' : {'scores.hygiene' : 0}}\n",
    "\n",
    "# 2. Groups the matches by Local Authority\n",
    "groups = {'$group' : {'id' : {'LocalAuthorityName' : '$LocalAuthorityName', 'count' : {'$sum' : 1}}}}\n",
    "\n",
    "# 3. Sorts the matches from highest to lowest\n",
    "sorted_values = {'$sort' : {'count' : +1 }}\n",
    "\n",
    "# Print the number of documents in the result\n",
    "pipeline_docs = [bad.hygiene, group_query, sort_values]\n",
    "\n",
    "# Print the first 10 results\n",
    "results = list(establishments.aggregate(pipeline_docs))\n",
    "\n",
    "pprint(results.head(10))\n"
   ]
  },
  {
   "cell_type": "code",
   "execution_count": null,
   "id": "a4b16297",
   "metadata": {},
   "outputs": [],
   "source": [
    "# Convert the result to a Pandas DataFrame\n",
    "bad_hygiene_df = pd.json_normalize(results)\n",
    "\n",
    "# Display the number of rows in the DataFrame\n",
    "len(bad_hygiene_df)\n",
    "\n",
    "# Display the first 10 rows of the DataFrame\n",
    "bad_hygiene_df.head(10)"
   ]
  }
 ],
 "metadata": {
  "kernelspec": {
   "display_name": "Python 3 (ipykernel)",
   "language": "python",
   "name": "python3"
  },
  "language_info": {
   "codemirror_mode": {
    "name": "ipython",
    "version": 3
   },
   "file_extension": ".py",
   "mimetype": "text/x-python",
   "name": "python",
   "nbconvert_exporter": "python",
   "pygments_lexer": "ipython3",
   "version": "3.7.7"
  }
 },
 "nbformat": 4,
 "nbformat_minor": 5
}
